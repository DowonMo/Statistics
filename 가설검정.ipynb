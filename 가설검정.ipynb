{
 "cells": [
  {
   "cell_type": "markdown",
   "metadata": {},
   "source": [
    "# 표본의 평균 검정"
   ]
  },
  {
   "cell_type": "markdown",
   "metadata": {},
   "source": [
    "### (1) 모집단의 분산(표준편차)를 알고 있는 경우 -> Z-test(양측)\n",
    "- 귀무가설: 표본평균은 모집단 평균과 차이가 없다.\n",
    "- 대립가설: 표본평균은 모집단 평균과 차이가 있다."
   ]
  },
  {
   "cell_type": "code",
   "execution_count": null,
   "metadata": {},
   "outputs": [],
   "source": [
    "import numpy as np\n",
    "import pandas as pd\n",
    "from scipy.stats import norm\n",
    "\n",
    "# 예제 데이터 생성\n",
    "data = np.array([23, 25, 28, 30, 26, 27, 29, 32, 31, 28])\n",
    "\n",
    "# 모집단의 평균과 분산(표준편차)\n",
    "population_mean = 28        # 모집단의 평균\n",
    "population_variance = 4     # 모집단의 분산(표준편차의 제곱)\n",
    "\n",
    "# 유의수준 설정\n",
    "alpha = 0.05\n",
    "\n",
    "# 표본평균 계산\n",
    "sample_mean = np.mean(data)\n",
    "\n",
    "# 표본크기\n",
    "n = len(data)\n",
    "\n",
    "# 검정통계량 계산\n",
    "z_test_stat = (sample_mean - population_mean) / (population_variance / np.sqrt(n))\n",
    "\n",
    "# 임계값 계산\n",
    "critical_value = norm.ppf(1 - alpha / 2)\n",
    "\n",
    "# p_value 계산 (양측 검정)\n",
    "p_value = 2* (1- norm.cdf(abs(z_test_stat)))"
   ]
  },
  {
   "cell_type": "code",
   "execution_count": null,
   "metadata": {},
   "outputs": [],
   "source": [
    "# 결과 출력\n",
    "print(f\"검정통계량: {z_test_stat}\\n임계값: {critical_value}\\np_value: {p_value}\")\n",
    "\n",
    "if p_value > alpha:\n",
    "    print(f\"귀무가설 기각 불가. 표본평균은 모집단의 평균과 차이가 없다.\")\n",
    "else:\n",
    "    print(f\"귀무가설 기각. 표본평균은 모집단의 평균과 차이가 있다.\")"
   ]
  },
  {
   "cell_type": "markdown",
   "metadata": {},
   "source": [
    "### (2) 모집단의 분산(표준편차)를 모를 경우 -> t_test(양측)\n",
    "- 귀무가설: 표본평균은 모집단 평균과 차이가 없다.\n",
    "- 대립가설: 표본평균은 모집단 평균과 차이가 있다."
   ]
  },
  {
   "cell_type": "code",
   "execution_count": null,
   "metadata": {},
   "outputs": [],
   "source": [
    "# scipy.stats.ttest_1samp(a, popmean, axis=0, nan_policy='propagate', alternative='two-sided', keepdims=False)\n",
    "# -> 단일표본 t-검정을 수행하는데 사용\n",
    "\n",
    "# a: 검정하려는 데이터 배열\n",
    "# popmean: 비교하려는 가설값 또는 모집단의 평균값\n",
    "# nan_policy: NaN 값의 처리 방법 지정"
   ]
  },
  {
   "cell_type": "code",
   "execution_count": null,
   "metadata": {},
   "outputs": [],
   "source": [
    "# stats.t.interval(alpha, df, loc=0, scale=1)\n",
    "# -> t-분포를 사용해 데이터의 평균값에 대한 신뢰구간을 계산. 주로 t-검정과 함께 사용.\n",
    "\n",
    "# alpha: 신뢰수준을 나타내며 주로 0과 1 사이의 값을 가짐. ex) 0.95 -> 95% 신뢰수준\n",
    "# df: 자유도( n - 1)\n",
    "# loc: 신뢰구간의 중심이 되는 값. 일반적으로 표본 데이터의 평균을 사용\n",
    "# scale: 표준오차(standard error), 표본 데이터의 표준오차를 사용\n",
    "# -> low:신뢰구간의 하한 / high:신뢰구간의 상한"
   ]
  },
  {
   "cell_type": "code",
   "execution_count": null,
   "metadata": {},
   "outputs": [],
   "source": [
    "from scipy import stats\n",
    "\n",
    "# 예제 데이터 생성\n",
    "data = np.array([23, 25, 28, 30, 26, 27, 29, 32, 31, 28])\n",
    "\n",
    "# 유의수준 설정\n",
    "alpha = 0.05\n",
    "\n",
    "# t-검정 수행\n",
    "ttest_stat, p_value = stats.ttest_1samp(data, popmean = 0, alternative = 'two-sided')\n",
    "\n",
    "# 95% 신뢰구간 계산\n",
    "confidence_interval = stats.t.interval(1-alpha, len(data) - 1, loc=np.mean(data), scale=stats.sem(data))\n",
    "\n",
    "print(f\"ttest_stat: {ttest_stat}\\np_value: {p_value}\\n95% 신뢰구간: {confidence_interval}\")\n",
    "\n",
    "if p_value > alpha:\n",
    "    print(f\"귀무가설 기각 불가. 표본평균은 모집단의 평균과 차이가 없다.\")\n",
    "else:\n",
    "    print(f\"귀무가설 기각. 표본평균은 모집단의 평균과 차이가 있다.\")"
   ]
  },
  {
   "cell_type": "markdown",
   "metadata": {},
   "source": [
    "#### 예시\n",
    "- mpg 데이터에 대한 표본평균을 구하시오. (반올림하여 소수 넷째자리까지 계산)\n",
    "- mpg 데이터에 대한 표본분산을 구하시오. (반올림하여 소수 넷째자리까지 계산)\n",
    "- mpg의 평균이 20이라는 가설에 대해 검정하시오\n",
    "- mpg의 평균의 95% 신뢰구간을 구하시오"
   ]
  },
  {
   "cell_type": "code",
   "execution_count": null,
   "metadata": {},
   "outputs": [],
   "source": [
    "import pandas as pd\n",
    "import numpy as np\n",
    "from scipy import stats\n",
    "\n",
    "# 데이터 로드\n",
    "cars = pd.read_csv('../data/mtcars.csv')\n",
    "\n",
    "# 표본평균 계산\n",
    "sample_mean = round(np.mean(cars['mpg']), 4)\n",
    "print(f\"표본평균: {sample_mean}\")\n",
    "\n",
    "# 표본분산 계산\n",
    "sample_var = round(np.var(cars['mpg']), 4)\n",
    "print(f\"표본분산: {sample_var}\")\n",
    "\n",
    "# 표본의 평균이 20이라는 가설에 대해 검정하시오\n",
    "ttest_stat, p_value = stats.ttest_1samp(cars['mpg'], 20)\n",
    "print(f\"단일표본 t-test 통계량: {ttest_stat}\\np_value: {p_value}\")\n",
    "\n",
    "# 표본평균의 95% 신뢰구간 계산\n",
    "conf_interval = stats.t.interval(0.95, len(cars['mpg']) - 1, loc = np.mean(cars['mpg']), scale = stats.sem(cars['mpg']))\n",
    "print(f\"표본평균의 95% 신뢰구간: {conf_interval}\")"
   ]
  },
  {
   "cell_type": "markdown",
   "metadata": {},
   "source": [
    "# 두 독립표본의 평균, 중앙값 차이 검정"
   ]
  },
  {
   "cell_type": "markdown",
   "metadata": {},
   "source": [
    "### (1) 두 그룹의 데이터가 정규분포를 따를 때\n",
    "- t-검정 `stats.ttest_ind()`\n"
   ]
  },
  {
   "cell_type": "code",
   "execution_count": null,
   "metadata": {},
   "outputs": [],
   "source": [
    "# scipy.stats.ttest_ind(a, b, axis=0, equal_var=True, nan_policy='propagate')\n",
    "# -> 두 표본의 평균이 통계적으로 유의미한지 t-검정을 활용해 검정하는 함수\n",
    "\n",
    "# a: 첫 번째 독립표본\n",
    "# b: 두 번째 독립표본\n",
    "# equal_var: 두 그룹의 등분산 여부 설정. False로 설정할 경우 등분산을 가정하지 않는 검정 수행"
   ]
  },
  {
   "cell_type": "code",
   "execution_count": null,
   "metadata": {},
   "outputs": [],
   "source": [
    "from scipy import stats\n",
    "\n",
    "# 두 독립표본 데이터\n",
    "sample1 = [23, 25, 28, 30, 32]\n",
    "sample2 = [19, 21, 24, 26, 29]\n",
    "\n",
    "# t-검정 수행\n",
    "ttest_stat, p_value = stats.ttest_ind(sample1, sample2)\n",
    "\n",
    "# 각 샘플의 평균\n",
    "print(f\"sample1의 평균: {np.mean(sample1)}\")\n",
    "print(f\"sample2의 평균: {np.mean(sample2)}\")\n",
    "\n",
    "# 결과 출력\n",
    "print(f\"ttest 통계량: {ttest_stat}\\np_value: {p_value}\")\n",
    "\n",
    "if p_value > alpha:\n",
    "    print(f\"귀무가설 기각 불가. 두 집단의 평균에는 차이가 없다.\")\n",
    "else:\n",
    "    print(f\"귀무가설 기각. 두 집단의 평균에는 차이가 있다.\")"
   ]
  },
  {
   "cell_type": "markdown",
   "metadata": {},
   "source": [
    "### (2) 두 그룹의 데이터가 정규분포를 따르지 않을 때\n",
    "- Mann-Whitney U 검정 `stats.mannwhitneyu()`"
   ]
  },
  {
   "cell_type": "code",
   "execution_count": null,
   "metadata": {},
   "outputs": [],
   "source": [
    "# scipy.stats.mannwhitneyu(x, y, use_continuity=True)\n",
    "# -> 두 표본의 중앙값이 통계적으로 유의미한지 평가하는 함수\n",
    "# -> 정규분포를 따르지 않거나 등분산성을 가정하기 어려운 경우 사용\n",
    "\n",
    "# x: 첫 번째 독립표본\n",
    "# y: 두 번째 독립표본\n",
    "# use_continuity: 연속성 보정의 사용 여부 설정. 연속성 보정은 이산 데이터에서 사용"
   ]
  },
  {
   "cell_type": "code",
   "execution_count": null,
   "metadata": {},
   "outputs": [],
   "source": [
    "from scipy import stats\n",
    "\n",
    "# 두 독립표본 데이터\n",
    "sample1 = [23, 25, 28, 30, 32]\n",
    "sample2 = [19, 21, 24, 26, 29]\n",
    "\n",
    "# Mann-Whitney U 검정 수행\n",
    "stat, p_value = stats.mannwhitneyu(sample1, sample2)\n",
    "\n",
    "# 각 샘플의 평균\n",
    "print(f\"sample1의 평균: {np.mean(sample1)}\")\n",
    "print(f\"sample2의 평균: {np.mean(sample2)}\")\n",
    "\n",
    "# 결과 출력\n",
    "print(f\"통계량: {stat}\\np_value: {p_value}\")\n",
    "\n",
    "if p_value > alpha:\n",
    "    print(f\"귀무가설 기각 불가. 두 집단의 평균에는 차이가 없다.\")\n",
    "else:\n",
    "    print(f\"귀무가설 기각. 두 집단의 평균에는 차이가 있다.\")"
   ]
  },
  {
   "cell_type": "markdown",
   "metadata": {},
   "source": [
    "### (4) 검정 방법 선택을 위한 정규성 검정(샤피로-윌크)"
   ]
  },
  {
   "cell_type": "markdown",
   "metadata": {},
   "source": [
    "- 정규성을 만족할 경우 -> t-검정 (`stats.ttest_ind(a, b)`)\n",
    "- 정규성을 만족하지 못할 경우 -> Mann Whitney U 검정 (`stats.mannwhitneyu(a, b)`)\n",
    "- 샤피로-윌크 테스트의 귀무가설은 `\"데이터는 정규분포를 따른다\"`"
   ]
  },
  {
   "cell_type": "code",
   "execution_count": null,
   "metadata": {},
   "outputs": [],
   "source": [
    "# stats.shapiro(x)\n",
    "# -> 데이터가 정규분포를 따르는지 확인하는 검정 방법\n",
    "# -> 귀무가설: \"데이터는 정규분포를 따른다\"\n",
    "\n",
    "# x: 정규성을 검정하려는 데이터"
   ]
  },
  {
   "cell_type": "code",
   "execution_count": null,
   "metadata": {},
   "outputs": [],
   "source": [
    "from scipy import stats\n",
    "\n",
    "# 정규성 검정을 위한 샘플 데이터 생성\n",
    "data = [2.4, 2.7, 3.1, 3.2, 3.5, 3.7, 3.9, 4.1, 4.2]\n",
    "\n",
    "# Shapiro-Wilk 테스트 수행\n",
    "stat, p_value = stats.shapiro(data)\n",
    "\n",
    "# 결과 출력\n",
    "\n",
    "# 결과 출력\n",
    "print(f\"shapiro 통계량: {stat}\\np_value: {p_value}\")\n",
    "\n",
    "if p_value > alpha:\n",
    "    print(f\"귀무가설 기각 불가. 두 집단은 정규성을 만족한다\")\n",
    "else:\n",
    "    print(f\"귀무가설 기각. 두 집단은 정규성을 만족하지 않는다\")"
   ]
  },
  {
   "cell_type": "markdown",
   "metadata": {},
   "source": [
    "### 두 독립표본에 대한 평균 및 정규성 검정 예제\n",
    "- 각각의 샘플에 대한 평균을 구하시오\n",
    "- 각 샘플에 대해서 정규성 테스트를 수행하시오\n",
    "- 샘플에 대한 (2)의 결과를 바탕으로 적절한 검정 방법을 선택해 평균 차이가 있는지 검정을 수행하시오(유의수준: 0.05)"
   ]
  },
  {
   "cell_type": "code",
   "execution_count": null,
   "metadata": {},
   "outputs": [],
   "source": [
    "from scipy import stats\n",
    "\n",
    "# 데이터 샘플\n",
    "dat_M = [117, 108, 105, 89, 101, 93, 96, 108, 108, 94, 93, 112, 92, 91, 100, 96, 120, 86, 96, 95]\n",
    "dat_F = [121, 101, 102, 114, 103, 105, 101, 131, 96, 109, 109, 113, 115, 94, 108, 96, 110, 112, 120, 100]\n",
    "\n",
    "# 평균 계산\n",
    "M_mean = np.mean(dat_M)\n",
    "F_mean = np.mean(dat_F)\n",
    "\n",
    "print(f\"남자 데이터 평균: {M_mean}\")\n",
    "print(f\"여자 데이터 평균: {F_mean}\\n\")\n",
    "\n",
    "# 정규성 테스트 수행\n",
    "M_stat, m_pvalue = stats.shapiro(dat_M)\n",
    "print(f\"M_stat: {M_stat} / m_pvalue: {m_pvalue}\")\n",
    "\n",
    "if m_pvalue < 0.05:\n",
    "    print(f\"귀무가설 기각. 남자 데이터는 정규성을 만족하지 못한다\")\n",
    "else:\n",
    "    print(f\"귀무가설 기각 불가. 남자 데이터는 정규성을 만족한다\\n\")\n",
    "\n",
    "F_stat, f_pvalue = stats.shapiro(dat_F)\n",
    "print(f\"F_stat: {F_stat} / f_pvalue: {f_pvalue}\")\n",
    "\n",
    "if f_pvalue < 0.05:\n",
    "    print(f\"귀무가설 기각. 여자 데이터는 정규성을 만족하지 못한다\")\n",
    "else:\n",
    "    print(f\"귀무가설 기각 불가. 여자 데이터는 정규성을 만족한다\")"
   ]
  },
  {
   "cell_type": "code",
   "execution_count": null,
   "metadata": {},
   "outputs": [],
   "source": [
    "# 두 독립표본에 대한 평균 차이 검정\n",
    "# -> 정규성을 만족하므로 ttest_ind() 수행\n",
    "\n",
    "ttest_stat, p_value = stats.ttest_ind(dat_M, dat_F)\n",
    "print(f\"t-검정 통계량: {ttest_stat}\\np_value: {p_value}\")\n",
    "\n",
    "if p_value < 0.05:\n",
    "    print(\"귀무가설 기각. 두 독립표본의 평균에는 차이가 있다.\")\n",
    "else:\n",
    "    print(\"귀무가설 기각 불가. 두 독립표본의 평균에는 차이가 없다.\")"
   ]
  },
  {
   "cell_type": "markdown",
   "metadata": {},
   "source": [
    "# 대응표본의 평균 차이 검정 (t-검정)\n",
    "- 한개의 데이터에 대한 두 시점 차이에서 발생하는 평균 비교"
   ]
  },
  {
   "cell_type": "code",
   "execution_count": null,
   "metadata": {},
   "outputs": [],
   "source": [
    "# scipy.stats.ttest_rel(a, b, axis=0, nan_policy='propagate', alternative='two-sided', keepdims=False)\n",
    "# 한개의 데이터에 대한 두 시점 차이에 의해 발생하는 평균 비교\n",
    "\n",
    "# a와 b: 비교하려는 두 관련 데이터 집단의 배열\n",
    "# non_policy: propagate, omit, raise"
   ]
  },
  {
   "cell_type": "code",
   "execution_count": null,
   "metadata": {},
   "outputs": [],
   "source": [
    "from scipy import stats\n",
    "\n",
    "data_before = [72, 75, 68, 71, 73]\n",
    "data_after = [76, 79, 74, 78, 80]\n",
    "\n",
    "ttest_stat, p_value = stats.ttest_rel(data_before, data_after)\n",
    "\n",
    "print(f\"ttest 통계량{ttest_stat}\\np_value: {p_value}\")\n",
    "\n",
    "# p_value 값이 0.05 미만이므로 두 데이터에 대한 평균에는 차이가 있다.(귀무가설 기각)"
   ]
  },
  {
   "cell_type": "markdown",
   "metadata": {},
   "source": [
    "### 대응표본 평균차이 검정 예제\n",
    "- 두 데이터셋의 정규성 검정 테스트를 하시오 (유의수준: 0.05)\n",
    "- (1)의 결과를 기반으로 적절한 검정방법을 선택해 평균 차이에 대한 검정을 수행하시오\n",
    "    - 귀무가설: 전과 후의 평균 수면시간에는 차이가 없다.\n",
    "    - 대립가설: 전과 후의 평균 수면시간에는 차이가 있다."
   ]
  },
  {
   "cell_type": "code",
   "execution_count": null,
   "metadata": {},
   "outputs": [],
   "source": [
    "from scipy import stats\n",
    "\n",
    "# 예제 데이터\n",
    "before = [7, 3, 4, 5, 2, 1, 6, 6, 5, 4]\n",
    "after = [8, 4, 5, 6, 2, 3, 6, 8, 6, 5]\n",
    "\n",
    "# 정규성 검정 수행\n",
    "stat, p_value = stats.shapiro(before)\n",
    "print(f\"b_stat: {stat}\\nb_p_value: {p_value}\")\n",
    "\n",
    "if p_value < 0.05:\n",
    "    print(\"귀무가설 기각. before 데이터는 정규성을 만족하지 못한다\")\n",
    "else:\n",
    "    print(\"귀무가설 기각 불가. before 데이터는 정규성을 만족한다\")\n",
    "\n",
    "stat, p_value = stats.shapiro(after)\n",
    "print(f\"a_stat: {stat}\\na_p_value: {p_value}\")\n",
    "\n",
    "if p_value < 0.05:\n",
    "    print(\"귀무가설 기각. after 데이터는 정규성을 만족하지 못한다\")\n",
    "else:\n",
    "    print(\"귀무가설 기각 불가. after 데이터는 정규성을 만족한다\")"
   ]
  },
  {
   "cell_type": "code",
   "execution_count": null,
   "metadata": {},
   "outputs": [],
   "source": [
    "# 평균차이 검정\n",
    "# -> 정규성을 만족하므로 ttest 사용(stats.ttest_rel())\n",
    "\n",
    "stat, p_value = stats.ttest_rel(before, after)\n",
    "print(f\"ttest_stat: {stat}\\np_value: {p_value}\")\n",
    "\n",
    "if p_value < 0.05:\n",
    "    print(\"귀무가설 기각. 전과 후의 평균 수면시간에는 차이가 있다.\")\n",
    "else:\n",
    "    print(\"귀무가설 기각 불가. 전과 후의 평균 수면시간에는 차이가 없다.\")"
   ]
  },
  {
   "cell_type": "markdown",
   "metadata": {},
   "source": [
    "# 단일표본 모분산 검정 (카이제곱 검정)\n",
    "- 주어진 표본의 분산이나 표준편차가 특정한 가설값과 얼마나 다른지 검정하는 방법"
   ]
  },
  {
   "cell_type": "code",
   "execution_count": null,
   "metadata": {},
   "outputs": [],
   "source": [
    "# stats.chi2.cdf(x, df)\n",
    "# -> 카이제곱 분포의 누적분포를 사용해 어떤 값 미만의 영역에 속하는 확률을 계산\n",
    "\n",
    "# x: 카이제곱 분포의 누적확률을 구하려는 카이제곱 통계량 값\n",
    "# df: 자유도(n-1)"
   ]
  },
  {
   "cell_type": "code",
   "execution_count": null,
   "metadata": {},
   "outputs": [],
   "source": [
    "import numpy as np\n",
    "from scipy.stats import chi2\n",
    "\n",
    "# 예제 데이터\n",
    "data = np.array([14.2, 15.1, 14.8, 15.4, 14.9, 15.2, 14.6, 15.0])\n",
    "\n",
    "# 가설 설정\n",
    "# 귀무가설: 모분산은 1.0과 같다\n",
    "# 대립가설: 모분산은 1.0과 다르다\n",
    "\n",
    "# 모분산\n",
    "population_variance = 1.0\n",
    "\n",
    "# 검정통계량 계산\n",
    "# (n-1) * 표본분산 / 모분산\n",
    "chi2_stat = (len(data) - 1) * (np.var(data) / population_variance)\n",
    "\n",
    "# 자유도\n",
    "df = len(data) - 1\n",
    "\n",
    "# 카이제곱 검정을 통한 p_value 계산\n",
    "p_value = 1 - stats.chi2.cdf(chi2_stat, df)\n",
    "\n",
    "# 결과 출력\n",
    "print(f\"카이제곱 통계량: {chi2_stat}\\np_value: {p_value}\")\n",
    "\n",
    "if p_value < 0.05:\n",
    "    print(\"귀무가설 기각. 데이터의 모분산은 1.0과 다르다\")\n",
    "else:\n",
    "    print(\"귀무가설 기각 불가. 데이터의 모분산은 1.0과 같다\")"
   ]
  },
  {
   "cell_type": "markdown",
   "metadata": {},
   "source": [
    "# 두 모분산 비에 대한 가설 검정 (F 검정: 일원분산분석)\n",
    "- 두 모집단의 분산이 동일한지 검정하는 방법"
   ]
  },
  {
   "cell_type": "code",
   "execution_count": null,
   "metadata": {},
   "outputs": [],
   "source": [
    "# stats.f.cdf(x, dfn, dfd)\n",
    "\n",
    "# x: F분포의 누적확률분포를 구하려는 F통계량 값\n",
    "# dfn: 분자 자유도. 첫 번째 그룹의 자유도\n",
    "# dfd: 분모 자유도. 두 번째 그룹의 자유도"
   ]
  },
  {
   "cell_type": "code",
   "execution_count": null,
   "metadata": {},
   "outputs": [],
   "source": [
    "# 2개의 표본 생성\n",
    "import numpy as np\n",
    "np.random.seed(123)\n",
    "\n",
    "sample1 = np.random.normal(loc=5, scale=2, size=50)\n",
    "sample2 = np.random.normal(loc=5, scale=3, size=50)\n",
    "\n",
    "# 두 샘플에 대한 분산의 동일성 검정\n",
    "# F-검정 통계량 -> 첫 번째 표본의 분산 / 두 번째 표본의 분산\n",
    "sample1_var = np.var(sample1)\n",
    "sample2_var = np.var(sample2)\n",
    "\n",
    "F_stat = sample1_var / sample2_var\n",
    "\n",
    "# F-검정 수행\n",
    "p_value = 1 - stats.f.cdf(F_stat, dfn = len(sample1) - 1, dfd = len(sample2) - 1)\n",
    "\n",
    "# 결과 출력\n",
    "print(f\"sample1의 분산: {sample1_var}\")\n",
    "print(f\"sample2의 분산: {sample2_var}\")\n",
    "\n",
    "print(f\"F-통계량: {F_stat}\\np_value: {p_value}\")\n",
    "\n",
    "if p_value < 0.05:\n",
    "    print(\"귀무가설 기각. 두 모집단의 분산은 다르다.\")\n",
    "else:\n",
    "    print(\"귀무가설 기각 불가. 두 모집단의 분산은 같다\")"
   ]
  },
  {
   "cell_type": "markdown",
   "metadata": {},
   "source": [
    "# 독립성 검정 (카이제곱 검정)\n",
    "- 보통 카이제곱 검정은 범주형 데이터에 대한 통계적 가설 검정을 수행하는 데 사용\n",
    "- 두개 이상의 범주형 변수 간 관계를 분석"
   ]
  },
  {
   "cell_type": "code",
   "execution_count": null,
   "metadata": {},
   "outputs": [],
   "source": [
    "# stats.chi2_contingency(observed, correction=True, lambda_=None)\n",
    "\n",
    "# observed: 교차표의 관측된 데이터\n",
    "# correction: 자유도가 1인 검정의 Yate 보정 사용 여부 설정\n",
    "# lambda_: 람다값 보정 여부 설정\n",
    "\n",
    "# 반환값\n",
    "# chi2: 카이제곱 통계량. 두 범주형 변수 간의 연관성을 평가하는 데 사용\n",
    "# p_value: 귀무가설을 평가하는 데 사용\n",
    "# df: 자유도\n",
    "# expected: 두 변수가 독립적인 경우의 예상 빈도 테이블"
   ]
  },
  {
   "cell_type": "code",
   "execution_count": null,
   "metadata": {},
   "outputs": [],
   "source": [
    "import numpy as np\n",
    "from scipy.stats import chi2_contingency\n",
    "\n",
    "# 주어진 데이터를 매트릭스로 입력\n",
    "data_matrix = np.array([[50, 75, 125, 175], [90, 30, 45, 10]])\n",
    "\n",
    "# 독립성 검정 수행\n",
    "chi2_stat, p_value, df, expected = stats.chi2_contingency(data_matrix)\n",
    "\n",
    "# 결과 출력\n",
    "print(f\"chi2_stat: {chi2_stat}\\np_value: {p_value}\\n예상빈도:\\n{expected}\")\n",
    "\n",
    "if p_value < 0.05:\n",
    "    print(\"귀무가설 기각. 두 변수는 상관관계가 있다.\")\n",
    "else:\n",
    "    print(\"귀무가설 기각 불가. 두 변수는 상관관계가 없다.\")"
   ]
  },
  {
   "cell_type": "markdown",
   "metadata": {},
   "source": [
    "## 독립성 검정 예제\n",
    "- 생존 여부와 성별 간의 독립성 검정을 수행하시오\n",
    "- 생존 여부와 연령대 간의 독립성 검정을 수행하시오"
   ]
  },
  {
   "cell_type": "code",
   "execution_count": 25,
   "metadata": {},
   "outputs": [
    {
     "data": {
      "text/html": [
       "<div>\n",
       "<style scoped>\n",
       "    .dataframe tbody tr th:only-of-type {\n",
       "        vertical-align: middle;\n",
       "    }\n",
       "\n",
       "    .dataframe tbody tr th {\n",
       "        vertical-align: top;\n",
       "    }\n",
       "\n",
       "    .dataframe thead th {\n",
       "        text-align: right;\n",
       "    }\n",
       "</style>\n",
       "<table border=\"1\" class=\"dataframe\">\n",
       "  <thead>\n",
       "    <tr style=\"text-align: right;\">\n",
       "      <th></th>\n",
       "      <th>PassengerId</th>\n",
       "      <th>Survived</th>\n",
       "      <th>Pclass</th>\n",
       "      <th>Name</th>\n",
       "      <th>Sex</th>\n",
       "      <th>Age</th>\n",
       "      <th>SibSp</th>\n",
       "      <th>Parch</th>\n",
       "      <th>Ticket</th>\n",
       "      <th>Fare</th>\n",
       "      <th>Cabin</th>\n",
       "      <th>Embarked</th>\n",
       "    </tr>\n",
       "  </thead>\n",
       "  <tbody>\n",
       "    <tr>\n",
       "      <th>0</th>\n",
       "      <td>1</td>\n",
       "      <td>0</td>\n",
       "      <td>3</td>\n",
       "      <td>Braund, Mr. Owen Harris</td>\n",
       "      <td>male</td>\n",
       "      <td>22.0</td>\n",
       "      <td>1</td>\n",
       "      <td>0</td>\n",
       "      <td>A/5 21171</td>\n",
       "      <td>7.2500</td>\n",
       "      <td>NaN</td>\n",
       "      <td>S</td>\n",
       "    </tr>\n",
       "    <tr>\n",
       "      <th>1</th>\n",
       "      <td>2</td>\n",
       "      <td>1</td>\n",
       "      <td>1</td>\n",
       "      <td>Cumings, Mrs. John Bradley (Florence Briggs Th...</td>\n",
       "      <td>female</td>\n",
       "      <td>38.0</td>\n",
       "      <td>1</td>\n",
       "      <td>0</td>\n",
       "      <td>PC 17599</td>\n",
       "      <td>71.2833</td>\n",
       "      <td>C85</td>\n",
       "      <td>C</td>\n",
       "    </tr>\n",
       "  </tbody>\n",
       "</table>\n",
       "</div>"
      ],
      "text/plain": [
       "   PassengerId  Survived  Pclass  \\\n",
       "0            1         0       3   \n",
       "1            2         1       1   \n",
       "\n",
       "                                                Name     Sex   Age  SibSp  \\\n",
       "0                            Braund, Mr. Owen Harris    male  22.0      1   \n",
       "1  Cumings, Mrs. John Bradley (Florence Briggs Th...  female  38.0      1   \n",
       "\n",
       "   Parch     Ticket     Fare Cabin Embarked  \n",
       "0      0  A/5 21171   7.2500   NaN        S  \n",
       "1      0   PC 17599  71.2833   C85        C  "
      ]
     },
     "execution_count": 25,
     "metadata": {},
     "output_type": "execute_result"
    }
   ],
   "source": [
    "import pandas as pd\n",
    "import numpy as np\n",
    "\n",
    "titanic = pd.read_csv('../data/titanic.csv')\n",
    "titanic.head(2)"
   ]
  },
  {
   "cell_type": "code",
   "execution_count": 26,
   "metadata": {},
   "outputs": [
    {
     "name": "stdout",
     "output_type": "stream",
     "text": [
      "카이제곱 통계량: 260.71702016732104\n",
      "p_Value: 1.1973570627755645e-58\n"
     ]
    }
   ],
   "source": [
    "from scipy.stats import chi2_contingency\n",
    "\n",
    "titanic_cross = pd.crosstab(titanic['Survived'], titanic['Sex'])\n",
    "\n",
    "chi2_stat, p_value, df, expected = chi2_contingency(titanic_cross)\n",
    "print(f\"카이제곱 통계량: {chi2_stat}\\np_Value: {p_value}\")"
   ]
  },
  {
   "cell_type": "code",
   "execution_count": 28,
   "metadata": {},
   "outputs": [
    {
     "data": {
      "text/plain": [
       "0      20대\n",
       "1      30대\n",
       "2      20대\n",
       "3      30대\n",
       "4      30대\n",
       "      ... \n",
       "886    20대\n",
       "887    10대\n",
       "888    20대\n",
       "889    20대\n",
       "890    30대\n",
       "Name: Age_category, Length: 891, dtype: object"
      ]
     },
     "execution_count": 28,
     "metadata": {},
     "output_type": "execute_result"
    }
   ],
   "source": [
    "# 독립성 검정에서 수행하는 카이제곱 검정은 범주형에만 적용이 가능하므로 연속형을 범주형으로 레이블링 해야 한다.\n",
    "def age_category(age):\n",
    "    if age < 20:\n",
    "        return '10대'\n",
    "    elif age < 30:\n",
    "        return '20대'\n",
    "    elif age < 40:\n",
    "        return '30대'\n",
    "    elif age < 50:\n",
    "        return '40대'\n",
    "    elif age < 60:\n",
    "        return '50대'\n",
    "    else:\n",
    "        return '60대 이상'\n",
    "\n",
    "# 결측치 평균값으로 대체\n",
    "age_mean = titanic['Age'].mean()\n",
    "titanic['Age'] = titanic['Age'].apply(lambda x: age_mean if np.isnan(x) else x)\n",
    "\n",
    "# 연속형 -> 범주화\n",
    "titanic['Age_category'] = titanic['Age'].apply(age_category)\n",
    "titanic['Age_category']"
   ]
  },
  {
   "cell_type": "code",
   "execution_count": 30,
   "metadata": {},
   "outputs": [
    {
     "name": "stdout",
     "output_type": "stream",
     "text": [
      "카이제곱 통계량: 16.134525241016338\n",
      "p_Value: 0.006470311249228111\n"
     ]
    }
   ],
   "source": [
    "# 카이제곱 검정 수행\n",
    "\n",
    "SA_cross = pd.crosstab(titanic['Survived'], titanic['Age_category'])\n",
    "chi2_stat, p_value, df, expected = chi2_contingency(SA_cross)\n",
    "\n",
    "print(f\"카이제곱 통계량: {chi2_stat}\\np_Value: {p_value}\")"
   ]
  }
 ],
 "metadata": {
  "kernelspec": {
   "display_name": "Python 3",
   "language": "python",
   "name": "python3"
  },
  "language_info": {
   "codemirror_mode": {
    "name": "ipython",
    "version": 3
   },
   "file_extension": ".py",
   "mimetype": "text/x-python",
   "name": "python",
   "nbconvert_exporter": "python",
   "pygments_lexer": "ipython3",
   "version": "3.11.4"
  }
 },
 "nbformat": 4,
 "nbformat_minor": 2
}
